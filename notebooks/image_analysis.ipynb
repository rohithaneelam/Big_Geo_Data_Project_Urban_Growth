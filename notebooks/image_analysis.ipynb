{
 "cells": [
  {
   "cell_type": "code",
   "execution_count": 64,
   "id": "5c3b619f",
   "metadata": {},
   "outputs": [],
   "source": [
    "from osgeo import gdal, ogr, osr\n",
    "import matplotlib.pyplot as plt\n",
    "import numpy as np\n",
    "from scipy.stats import pearsonr\n",
    "import pandas as pd"
   ]
  },
  {
   "cell_type": "code",
   "execution_count": 94,
   "id": "af7a73da",
   "metadata": {},
   "outputs": [],
   "source": [
    "ds = gdal.Open(\"image_2002.tif\")"
   ]
  },
  {
   "cell_type": "code",
   "execution_count": 95,
   "id": "4b768504",
   "metadata": {},
   "outputs": [],
   "source": [
    "def get_std(arr):\n",
    "    return np.std(arr)\n",
    "\n",
    "def get_correlation_coeff(a, b):\n",
    "    cc = pearsonr(a, b)[0]\n",
    "    return cc"
   ]
  },
  {
   "cell_type": "code",
   "execution_count": 96,
   "id": "fba6233d",
   "metadata": {
    "scrolled": false
   },
   "outputs": [
    {
     "name": "stdout",
     "output_type": "stream",
     "text": [
      "{'1': 0.014382500074884855, '2': 0.019560512510663652, '3': 0.03400683019778441, '4': 0.047089583101759654, '5': 0.05978587379445455, '6': 0.046875841527301586}\n"
     ]
    }
   ],
   "source": [
    "std = {}\n",
    "for band in range(ds.RasterCount):\n",
    "    data_arr = ds.GetRasterBand(band + 1).ReadAsArray() * 2.75e-05 - 0.2\n",
    "    data_arr = data_arr[~np.isnan(data_arr)]\n",
    "    st = get_std(data_arr)\n",
    "    std[str(band + 1)] = st\n",
    "print(std)"
   ]
  },
  {
   "cell_type": "code",
   "execution_count": 97,
   "id": "e724af54",
   "metadata": {},
   "outputs": [
    {
     "name": "stdout",
     "output_type": "stream",
     "text": [
      "{'1_2': 0.9547357472440923, '1_3': 0.9010073801061751, '1_4': 0.11347463268513075, '1_5': 0.6066244579237073, '1_6': 0.7535120083743619, '2_3': 0.9556791369557667, '2_4': 0.25849767626350406, '2_5': 0.7157307456934959, '2_6': 0.8231837009972307, '3_4': 0.2771854791210639, '3_5': 0.8080836105125562, '3_6': 0.9025661065277265, '4_5': 0.6420137183321746, '4_6': 0.43201688341721195, '5_6': 0.9398226479083233}\n"
     ]
    }
   ],
   "source": [
    "corr = {}\n",
    "for i in range(ds.RasterCount):\n",
    "    for j in range(i, ds.RasterCount):\n",
    "        if(i==j):\n",
    "            continue\n",
    "        a = ds.GetRasterBand(i + 1).ReadAsArray() * 2.75e-05 - 0.2\n",
    "        b = ds.GetRasterBand(j + 1).ReadAsArray() * 2.75e-05 - 0.2\n",
    "        a = a[~np.isnan(a)]\n",
    "        b = b[~np.isnan(b)]\n",
    "        cc = get_correlation_coeff(a.reshape(-1), b.reshape(-1))\n",
    "        corr[str(i + 1) + \"_\" + str(j + 1)] = cc\n",
    "print(corr)"
   ]
  },
  {
   "cell_type": "code",
   "execution_count": 86,
   "id": "a933f5c0",
   "metadata": {},
   "outputs": [],
   "source": [
    "oif = []\n",
    "for i in range(ds.RasterCount):\n",
    "    for j in range(i, ds.RasterCount):\n",
    "        for k in range(j, ds.RasterCount):\n",
    "            if(i==j or i == k or j == k):\n",
    "                continue\n",
    "            sum_std = std[str(i + 1)] + std[str(j + 1)] + std[str(k + 1)]\n",
    "            sum_cc = corr[str(i + 1) + \"_\" + str(j + 1)] + corr[str(i + 1) + \"_\" + str(k + 1)] + corr[str(j + 1) + \"_\" + str(k + 1)]\n",
    "            _oif = sum_std / sum_cc\n",
    "            band_com = str(i + 1) + str(j + 1) + str(k + 1)\n",
    "            oif.append([band_com, sum_std, sum_cc, _oif])\n"
   ]
  },
  {
   "cell_type": "code",
   "execution_count": 68,
   "id": "f468d1d9",
   "metadata": {},
   "outputs": [
    {
     "name": "stdout",
     "output_type": "stream",
     "text": [
      "   Band Combinatios  Sum Std.  Sum Corr       OIF\n",
      "0               123  0.053543  2.870344  0.018654\n",
      "1               124  0.063543  1.080195  0.058825\n",
      "2               125  0.073962  2.249787  0.032875\n",
      "3               126  0.067563  2.589046  0.026096\n",
      "4               134  0.070911  0.977272  0.072560\n",
      "5               135  0.081330  2.355679  0.034525\n",
      "6               136  0.074931  2.695090  0.027803\n",
      "7               145  0.091330  0.977573  0.093425\n",
      "8               146  0.084931  0.942668  0.090097\n",
      "9               156  0.095350  2.503083  0.038093\n",
      "10              234  0.073505  1.105656  0.066481\n",
      "11              235  0.083924  2.249074  0.037315\n",
      "12              236  0.077525  2.594256  0.029883\n",
      "13              245  0.093924  1.000736  0.093855\n",
      "14              246  0.087525  0.971600  0.090084\n",
      "15              256  0.097945  2.297027  0.042640\n",
      "16              345  0.101292  0.973611  0.104038\n",
      "17              346  0.094893  0.944628  0.100456\n",
      "18              356  0.105312  2.478869  0.042484\n",
      "19              456  0.115312  1.268258  0.090922\n"
     ]
    }
   ],
   "source": [
    "oif_df = pd.DataFrame(oif, columns=['Band Combinatios', 'Sum Std.', 'Sum Corr', 'OIF'])\n",
    "print(oif_df)"
   ]
  },
  {
   "cell_type": "code",
   "execution_count": 88,
   "id": "a708f553",
   "metadata": {},
   "outputs": [
    {
     "name": "stdout",
     "output_type": "stream",
     "text": [
      "0 0\n",
      "0 1\n",
      "0 2\n",
      "0 3\n",
      "0 4\n",
      "0 5\n",
      "1 0\n",
      "1 1\n",
      "1 2\n",
      "1 3\n",
      "1 4\n",
      "1 5\n",
      "2 0\n",
      "2 1\n",
      "2 2\n",
      "2 3\n",
      "2 4\n",
      "2 5\n",
      "3 0\n",
      "3 1\n",
      "3 2\n",
      "3 3\n",
      "3 4\n",
      "3 5\n",
      "4 0\n",
      "4 1\n",
      "4 2\n",
      "4 3\n",
      "4 4\n",
      "4 5\n",
      "5 0\n",
      "5 1\n",
      "5 2\n",
      "5 3\n",
      "5 4\n",
      "5 5\n",
      "[[1.         0.95989139 0.95258243 0.17998732 0.7302472  0.84754694]\n",
      " [0.95989139 1.         0.9594804  0.31733765 0.72700528 0.82182025]\n",
      " [0.95258243 0.9594804  1.         0.27051731 0.81257239 0.90840749]\n",
      " [0.17998732 0.31733765 0.27051731 1.         0.53084094 0.3578178 ]\n",
      " [0.7302472  0.72700528 0.81257239 0.53084094 1.         0.95709227]\n",
      " [0.84754694 0.82182025 0.90840749 0.3578178  0.95709227 1.        ]]\n"
     ]
    }
   ],
   "source": [
    "corr_mat = []\n",
    "for i in range(ds.RasterCount):\n",
    "    corr_mat_row = []\n",
    "    for j in range(ds.RasterCount):\n",
    "        a = ds.GetRasterBand(i + 1).ReadAsArray() * 2.75e-05 - 0.2\n",
    "        b = ds.GetRasterBand(j + 1).ReadAsArray() * 2.75e-05 - 0.2\n",
    "        a = a[~np.isnan(a)]\n",
    "        b = b[~np.isnan(b)]\n",
    "        cc = get_correlation_coeff(a.reshape(-1), b.reshape(-1))\n",
    "        corr_mat_row.append(cc)\n",
    "        print(i, j)\n",
    "    corr_mat.append(corr_mat_row)\n",
    "corr_mat = np.array(corr_mat)\n",
    "print(corr_mat)"
   ]
  },
  {
   "cell_type": "code",
   "execution_count": 89,
   "id": "6f2ccf2f",
   "metadata": {},
   "outputs": [
    {
     "data": {
      "image/png": "[encoded data removed]",
      "text/plain": [
       "<Figure size 640x480 with 1 Axes>"
      ]
     },
     "metadata": {},
     "output_type": "display_data"
    }
   ],
   "source": [
    "for r in corr_mat:\n",
    "    plt.plot(r)\n",
    "plt.show()"
   ]
  },
  {
   "cell_type": "code",
   "execution_count": 90,
   "id": "975d6669",
   "metadata": {},
   "outputs": [],
   "source": [
    "cor_mat_df = pd.DataFrame(corr_mat, columns=['Band 1', 'Band 2', 'Band 3', 'Band 4', 'Band 5', 'Band 6'])"
   ]
  },
  {
   "cell_type": "code",
   "execution_count": 91,
   "id": "75564101",
   "metadata": {},
   "outputs": [
    {
     "data": {
      "text/html": [
       "<div>\n",
       "<style scoped>\n",
       "    .dataframe tbody tr th:only-of-type {\n",
       "        vertical-align: middle;\n",
       "    }\n",
       "\n",
       "    .dataframe tbody tr th {\n",
       "        vertical-align: top;\n",
       "    }\n",
       "\n",
       "    .dataframe thead th {\n",
       "        text-align: right;\n",
       "    }\n",
       "</style>\n",
       "<table border=\"1\" class=\"dataframe\">\n",
       "  <thead>\n",
       "    <tr style=\"text-align: right;\">\n",
       "      <th></th>\n",
       "      <th>Band 1</th>\n",
       "      <th>Band 2</th>\n",
       "      <th>Band 3</th>\n",
       "      <th>Band 4</th>\n",
       "      <th>Band 5</th>\n",
       "      <th>Band 6</th>\n",
       "    </tr>\n",
       "  </thead>\n",
       "  <tbody>\n",
       "    <tr>\n",
       "      <th>0</th>\n",
       "      <td>1.000000</td>\n",
       "      <td>0.959891</td>\n",
       "      <td>0.952582</td>\n",
       "      <td>0.179987</td>\n",
       "      <td>0.730247</td>\n",
       "      <td>0.847547</td>\n",
       "    </tr>\n",
       "    <tr>\n",
       "      <th>1</th>\n",
       "      <td>0.959891</td>\n",
       "      <td>1.000000</td>\n",
       "      <td>0.959480</td>\n",
       "      <td>0.317338</td>\n",
       "      <td>0.727005</td>\n",
       "      <td>0.821820</td>\n",
       "    </tr>\n",
       "    <tr>\n",
       "      <th>2</th>\n",
       "      <td>0.952582</td>\n",
       "      <td>0.959480</td>\n",
       "      <td>1.000000</td>\n",
       "      <td>0.270517</td>\n",
       "      <td>0.812572</td>\n",
       "      <td>0.908407</td>\n",
       "    </tr>\n",
       "    <tr>\n",
       "      <th>3</th>\n",
       "      <td>0.179987</td>\n",
       "      <td>0.317338</td>\n",
       "      <td>0.270517</td>\n",
       "      <td>1.000000</td>\n",
       "      <td>0.530841</td>\n",
       "      <td>0.357818</td>\n",
       "    </tr>\n",
       "    <tr>\n",
       "      <th>4</th>\n",
       "      <td>0.730247</td>\n",
       "      <td>0.727005</td>\n",
       "      <td>0.812572</td>\n",
       "      <td>0.530841</td>\n",
       "      <td>1.000000</td>\n",
       "      <td>0.957092</td>\n",
       "    </tr>\n",
       "    <tr>\n",
       "      <th>5</th>\n",
       "      <td>0.847547</td>\n",
       "      <td>0.821820</td>\n",
       "      <td>0.908407</td>\n",
       "      <td>0.357818</td>\n",
       "      <td>0.957092</td>\n",
       "      <td>1.000000</td>\n",
       "    </tr>\n",
       "  </tbody>\n",
       "</table>\n",
       "</div>"
      ],
      "text/plain": [
       "     Band 1    Band 2    Band 3    Band 4    Band 5    Band 6\n",
       "0  1.000000  0.959891  0.952582  0.179987  0.730247  0.847547\n",
       "1  0.959891  1.000000  0.959480  0.317338  0.727005  0.821820\n",
       "2  0.952582  0.959480  1.000000  0.270517  0.812572  0.908407\n",
       "3  0.179987  0.317338  0.270517  1.000000  0.530841  0.357818\n",
       "4  0.730247  0.727005  0.812572  0.530841  1.000000  0.957092\n",
       "5  0.847547  0.821820  0.908407  0.357818  0.957092  1.000000"
      ]
     },
     "execution_count": 91,
     "metadata": {},
     "output_type": "execute_result"
    }
   ],
   "source": [
    "cor_mat_df"
   ]
  },
  {
   "cell_type": "code",
   "execution_count": 92,
   "id": "c536d69a",
   "metadata": {},
   "outputs": [],
   "source": [
    "oif_df.to_csv(\"oif.csv\")"
   ]
  },
  {
   "cell_type": "code",
   "execution_count": 93,
   "id": "d4f17f61",
   "metadata": {},
   "outputs": [],
   "source": [
    "cor_mat_df.to_csv(\"cor_mat.csv\")"
   ]
  },
  {
   "cell_type": "code",
   "execution_count": null,
   "id": "fde104c7",
   "metadata": {},
   "outputs": [],
   "source": []
  }
 ],
 "metadata": {
  "kernelspec": {
   "display_name": "Python 3 (ipykernel)",
   "language": "python",
   "name": "python3"
  },
  "language_info": {
   "codemirror_mode": {
    "name": "ipython",
    "version": 3
   },
   "file_extension": ".py",
   "mimetype": "text/x-python",
   "name": "python",
   "nbconvert_exporter": "python",
   "pygments_lexer": "ipython3",
   "version": "3.9.6"
  }
 },
 "nbformat": 4,
 "nbformat_minor": 5
}
